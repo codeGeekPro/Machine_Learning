{
 "cells": [
  {
   "cell_type": "code",
   "execution_count": 2,
   "id": "be12be4f-174f-468f-8441-7db173a872ef",
   "metadata": {},
   "outputs": [],
   "source": [
    "# Classe   : plan de conception , genre ( ex: humain)\n",
    "#Objet   : instance d'une classe "
   ]
  },
  {
   "cell_type": "code",
   "execution_count": 9,
   "id": "2b02a5b1-3bea-48e8-a677-57e25f6943ef",
   "metadata": {},
   "outputs": [
    {
     "name": "stdout",
     "output_type": "stream",
     "text": [
      "Le programme ne fais rien \n"
     ]
    }
   ],
   "source": [
    "class Humain: #CRÉATION D'UNE CLASSE \n",
    "    def __init__(self):# Une méthode particulière qui permet de créer les objets, on l'appelle constructeur\n",
    "        pass # pour indiquer que la méthde ne fais rien\n",
    "        self.nom= \"DOUTI\"\n",
    "        self.prenom =\"LAMOUSSA\"\n",
    "        print(\"Création d'un humain\" , self ) # on met le self pour afficher l'dresse de l'objet\n",
    "\n",
    "print(\"Le programme ne fais rien \") \n",
    "    "
   ]
  },
  {
   "cell_type": "code",
   "execution_count": 10,
   "id": "30fd00b0-41e9-425a-9622-aae9fd6823fe",
   "metadata": {},
   "outputs": [
    {
     "name": "stdout",
     "output_type": "stream",
     "text": [
      "Création d'un humain <__main__.Humain object at 0x0000018E9AD068A0>\n",
      "Nom de h1 -> DOUTI\n"
     ]
    }
   ],
   "source": [
    "h1=Humain() # création d'un objet humain\n",
    "print(\"Nom de h1 -> {}\".format(h1.nom))"
   ]
  },
  {
   "cell_type": "code",
   "execution_count": 20,
   "id": "741a1a95-d1bd-484c-86cf-9f0861b0469f",
   "metadata": {},
   "outputs": [
    {
     "name": "stdout",
     "output_type": "stream",
     "text": [
      "lancement du progrsmme \n",
      "Nom-> Jojo ; age ->123\n",
      "Humain existant : 1 \n",
      "Nom-> Gojo ; age ->23\n",
      "Humain existant : 2 \n"
     ]
    }
   ],
   "source": [
    "# Définition des attributs: c'est uen variable qui appartient a une classe\n",
    "\n",
    "class Humain: #CRÉATION D'UNE CLASSE \n",
    "    # pour créer un attribut de classe on le crée ici dans la définition de la classe \n",
    "    humain_cree= 0\n",
    "    def __init__(self, c_nom , c_age):\n",
    "        self.nom= c_nom\n",
    "        self.age=c_age\n",
    "        Humain.humain_cree +=1 # pour compter le nombre d'instance de la classe \n",
    "\n",
    "h1=Humain(\"Jojo\",123)\n",
    "\n",
    "print(\"lancement du progrsmme \")\n",
    "print(\"Nom-> {} ; age ->{}\".format(h1.nom ,h1.age))\n",
    "print(\"Humain existant : {} \".format(Humain.humain_cree))\n",
    "\n",
    "h1=Humain(\"Gojo\",23)\n",
    "print(\"Nom-> {} ; age ->{}\".format(h1.nom ,h1.age))\n",
    "print(\"Humain existant : {} \".format(Humain.humain_cree))\n",
    "\n",
    "    "
   ]
  },
  {
   "cell_type": "code",
   "execution_count": 28,
   "id": "0e54f944-c5f0-4ad1-8d7c-9189849897c2",
   "metadata": {},
   "outputs": [
    {
     "name": "stdout",
     "output_type": "stream",
     "text": [
      "Satoru a dit Bonjour à tous  \n",
      "Planète actuelle: terre\n",
      "L'humain est classé comme étant le plus au être dde la chaine alimentaire\n"
     ]
    }
   ],
   "source": [
    "\"\"\"\n",
    "LES MÉTHODES \n",
    "Méthode d'instance : fonction sur une instance (objet0\n",
    "Méthode de classe : donction sur unse classe \n",
    "Méthode statique :  fonction indépendant mais liée à une classe \n",
    "\n",
    "\"\"\"\n",
    "\n",
    "class Humain:\n",
    "    lieu_habitation =\"terre\"\n",
    "    \n",
    "    def __init__(self, nom,age):\n",
    "        self.nom=nom\n",
    "        self.age=age\n",
    "\n",
    "    def parler(self,message): # méthode d'instance \n",
    "        print(\"{} a dit {} \".format(self.nom, message))\n",
    "\n",
    "    def changer_planete(cls,nouvelle_planete):# Métode de classe\n",
    "        Humain.lieu_habitation= nouvelle_planete\n",
    "\n",
    "    changer_planete= classmethod(changer_planete)\n",
    "\n",
    "    def definition():\n",
    "        print(\"L'humain est classé comme étant le plus au être dde la chaine alimentaire\")\n",
    "        \n",
    "    definition=staticmethod(definition) # Méthode statique\n",
    "    \n",
    "h1=Humain(\"Satoru\",25)\n",
    "h1.parler(\"Bonjour à tous \")\n",
    "print(\"Planète actuelle: {}\".format(Humain.lieu_habitation))\n",
    "Humain.definition()\n"
   ]
  },
  {
   "cell_type": "code",
   "execution_count": 34,
   "id": "61fbc428-d6b9-43b9-b132-5ade875562a3",
   "metadata": {},
   "outputs": [
    {
     "name": "stdout",
     "output_type": "stream",
     "text": [
      "Création d'un  Humain\n",
      "Récupération interdite\n",
      "23\n",
      "Récupération interdite\n",
      "0\n"
     ]
    }
   ],
   "source": [
    "# PROPRIÉTÉS \n",
    "\n",
    "class Humain:\n",
    "    def __init__(self,nom,age): \n",
    "        print (\"Création d'un  Humain\")\n",
    "        self.nom=nom\n",
    "        self.age=age # si on met un underscore cela veut dire qu'on ne peut pas \n",
    "        # accéder en dehors \n",
    "    # property ( getters, setters, deleter, helper) --> Pour contrôler les entrées et saisies des utilisateurs \n",
    "    \n",
    "    def _setage(self, nouvel_age):\n",
    "        self._age=nouvel_age\n",
    "        if nouvel_age < 0:\n",
    "            self._age=0\n",
    "        \n",
    "        \n",
    "        \n",
    "    def _getage(self):\n",
    "        print(\"Récupération interdite\")\n",
    "        return self._age\n",
    "        \n",
    "    age= property(_getage, _setage)\n",
    "\n",
    "# PROGRAMME PRINCIPAL\n",
    "h1=Humain(\"jASON\", 23)\n",
    "print(h1.age)\n",
    "h1.age=-3\n",
    "print(h1.age)\n",
    "\n",
    "               "
   ]
  },
  {
   "cell_type": "code",
   "execution_count": 40,
   "id": "4589438e-d97b-451f-8eeb-ab8c4d865131",
   "metadata": {},
   "outputs": [
    {
     "name": "stdout",
     "output_type": "stream",
     "text": [
      "F22 Raptor\n"
     ]
    },
    {
     "ename": "TypeError",
     "evalue": "Vehicule.__init__() missing 1 required positional argument: 'q_essence'",
     "output_type": "error",
     "traceback": [
      "\u001b[1;31m---------------------------------------------------------------------------\u001b[0m",
      "\u001b[1;31mTypeError\u001b[0m                                 Traceback (most recent call last)",
      "Cell \u001b[1;32mIn[40], line 23\u001b[0m\n\u001b[0;32m     19\u001b[0m         Vehicule\u001b[38;5;241m.\u001b[39m\u001b[38;5;21m__init__\u001b[39m(nom,q_essence)\n\u001b[0;32m     20\u001b[0m         \u001b[38;5;28mself\u001b[39m\u001b[38;5;241m.\u001b[39mpuissance \u001b[38;5;241m=\u001b[39m puissance\n\u001b[1;32m---> 23\u001b[0m voiture1 \u001b[38;5;241m=\u001b[39m Voiture (\u001b[38;5;124m\"\u001b[39m\u001b[38;5;124mToyota Supra\u001b[39m\u001b[38;5;124m\"\u001b[39m, \u001b[38;5;241m50\u001b[39m, \u001b[38;5;241m420\u001b[39m)\n\u001b[0;32m     24\u001b[0m voiture1\u001b[38;5;241m.\u001b[39mse_deplacer()\n",
      "Cell \u001b[1;32mIn[40], line 19\u001b[0m, in \u001b[0;36mVoiture.__init__\u001b[1;34m(self, nom, q_essence, puissance)\u001b[0m\n\u001b[0;32m     18\u001b[0m \u001b[38;5;28;01mdef\u001b[39;00m \u001b[38;5;21m__init__\u001b[39m(\u001b[38;5;28mself\u001b[39m,nom,q_essence,puissance):\n\u001b[1;32m---> 19\u001b[0m     Vehicule\u001b[38;5;241m.\u001b[39m\u001b[38;5;21m__init__\u001b[39m(nom,q_essence)\n\u001b[0;32m     20\u001b[0m     \u001b[38;5;28mself\u001b[39m\u001b[38;5;241m.\u001b[39mpuissance \u001b[38;5;241m=\u001b[39m puissance\n",
      "\u001b[1;31mTypeError\u001b[0m: Vehicule.__init__() missing 1 required positional argument: 'q_essence'"
     ]
    }
   ],
   "source": [
    "\"\"\"\n",
    "HÉRITAGE \n",
    "\"\"\" \n",
    "class Vehicule:\n",
    "    def __init__(self, nom,q_essence):\n",
    "        self.nom=nom\n",
    "        self.essence =q_essence\n",
    "\n",
    "    def montrer_vehicule(self):\n",
    "        return self.nom\n",
    "    def se_deplacer(self):\n",
    "        print(\"le vehicule {} se déplace \".format(self.nom))\n",
    "\n",
    "v1= Vehicule(\"F22 Raptor\", 400)\n",
    "print(v1.nom)\n",
    "\n",
    "class Voiture(Vehicule): # classe fille\n",
    "    def __init__(self,nom,q_essence,puissance):\n",
    "        Vehicule.__init__(nom,q_essence)\n",
    "        self.puissance = puissance\n",
    "\n",
    "\n",
    "voiture1 = Voiture (\"Toyota Supra\", 50, 420)\n",
    "voiture1.se_deplacer()\n",
    "    \n",
    "    \n",
    "    \n",
    "\n",
    "\n"
   ]
  },
  {
   "cell_type": "code",
   "execution_count": null,
   "id": "c26768bf-4b69-4644-997a-230c7b9495ab",
   "metadata": {},
   "outputs": [],
   "source": []
  },
  {
   "cell_type": "code",
   "execution_count": null,
   "id": "f790c7ed-0380-415e-8da6-fc0197bba36f",
   "metadata": {},
   "outputs": [],
   "source": []
  },
  {
   "cell_type": "code",
   "execution_count": null,
   "id": "7785c486-4be6-4cf7-92c8-e9dabfeda223",
   "metadata": {},
   "outputs": [],
   "source": []
  },
  {
   "cell_type": "code",
   "execution_count": null,
   "id": "b0d75324-8e43-4711-b2bd-68ff59ef65e4",
   "metadata": {},
   "outputs": [],
   "source": []
  },
  {
   "cell_type": "code",
   "execution_count": null,
   "id": "7480bd5c-d34a-4f29-bf9d-2e6325944868",
   "metadata": {},
   "outputs": [],
   "source": []
  },
  {
   "cell_type": "code",
   "execution_count": null,
   "id": "57117b4b-28ba-4a91-97e7-8f189560ad39",
   "metadata": {},
   "outputs": [],
   "source": []
  },
  {
   "cell_type": "code",
   "execution_count": null,
   "id": "aec8694f-0733-4a95-9658-84348fc6d4cd",
   "metadata": {},
   "outputs": [],
   "source": []
  },
  {
   "cell_type": "code",
   "execution_count": 3,
   "id": "d7b23bde-fd89-4f7e-a45a-e1e5234cc85a",
   "metadata": {},
   "outputs": [],
   "source": [
    "# Pour créerune classe on utilise l'instruction \n",
    " class nom_de_la_classe:\n",
    "\n",
    "# on crée ensuite une méthode qui permet de construire les objets appelé\n",
    "# constructeur\n",
    "def __init__(self):\n",
    "     "
   ]
  },
  {
   "cell_type": "code",
   "execution_count": 7,
   "id": "626e8e57-1f33-46c8-9f27-37eb3587ffdd",
   "metadata": {},
   "outputs": [
    {
     "name": "stdout",
     "output_type": "stream",
     "text": [
      "Le nom de la personne est :Achille \n",
      "l'age de la personne est : 12\n"
     ]
    }
   ],
   "source": [
    "# Exemple classe personne\n",
    "class Personne:\n",
    "    def __init__(self,nom,age):\n",
    "        self.nom=nom\n",
    "        self.age=age\n",
    "\n",
    "P=Personne('Achille', 12)\n",
    "print(f\"Le nom de la personne est :{P.nom} \")\n",
    "print(\"l'age de la personne est : {}\" .format(P.age))"
   ]
  },
  {
   "cell_type": "code",
   "execution_count": 8,
   "id": "548be1e7-2954-4373-b4a1-11dcb581d6ef",
   "metadata": {},
   "outputs": [
    {
     "name": "stdout",
     "output_type": "stream",
     "text": [
      "Longueur :  46\n",
      "Largeur:  28\n"
     ]
    }
   ],
   "source": [
    "# Exemple Classe rectangle\n",
    "class Rectangle:\n",
    "    def __init__(self,L,l):\n",
    "        self.Longueur=L\n",
    "        self.Largeur=l\n",
    "MonRectangle=Rectangle(46,28)\n",
    "print(\"Longueur : \", MonRectangle.Longueur)\n",
    "print(\"Largeur: \", MonRectangle.Largeur)\n",
    "        \n",
    "        "
   ]
  },
  {
   "cell_type": "markdown",
   "id": "af29b459-51c3-4d09-a14c-0a755cbcb5f6",
   "metadata": {},
   "source": [
    "# Les méthodes d'instances en python \n",
    "Une m'ethode d'instance est une méthode ou procédure nommée au sein de la classe, permettant de définir les propriétés ou comportements des objets d'instances . Une méthode d'instance possède un po plusieurs paramètres, le premier nommé self est obligatoire\n"
   ]
  },
  {
   "cell_type": "code",
   "execution_count": 12,
   "id": "03038959-b071-44d0-b321-2b1f3df21af8",
   "metadata": {},
   "outputs": [
    {
     "name": "stdout",
     "output_type": "stream",
     "text": [
      "La surface de ton rectagle est :  12\n"
     ]
    }
   ],
   "source": [
    "# Un exemple avec la méthode surface qui calcule la surface du rectangle\n",
    "\n",
    "class Rectangle:\n",
    "    def __init__(self,L,l):\n",
    "        self.Longueur=L\n",
    "        self.Largeur=l\n",
    "\n",
    "    def Surface(self):\n",
    "        surface=self.Longueur*self.Largeur\n",
    "        return surface\n",
    "        #print(f\"La surface de ton rectangle est : {surface}\")\n",
    "\n",
    "MonRectangle = Rectangle (3,4)\n",
    "print(\"La surface de ton rectagle est : \", MonRectangle.Surface())"
   ]
  },
  {
   "cell_type": "markdown",
   "id": "deb2dec1-7f00-4dd8-b5cf-d780a83167eb",
   "metadata": {},
   "source": [
    "# Les méthodes de classes en python\n",
    "Une méthode de classe en python est une méthode qui fonctionne au sein de la classe où elle a été crée et elle est accessible par un objet d'instance ou directement en utilisant le nom de la classe sans faire aucune instanciation \n",
    " - Elle est décoré par @classmethod\n",
    " - une méthode de classe possède un premier paramètre obligatoire nommé : cls\n"
   ]
  },
  {
   "cell_type": "code",
   "execution_count": 16,
   "id": "444f7eeb-5811-4476-a3dd-11f0320dd695",
   "metadata": {},
   "outputs": [
    {
     "name": "stdout",
     "output_type": "stream",
     "text": [
      "Le nom de l'étudiant est :  Aladin\n",
      "None\n",
      "Le nom de l'étudiant est :  Aladin\n",
      "None\n",
      "Le nom de l'étudiant est :  Aladin\n"
     ]
    }
   ],
   "source": [
    "# Exemples d'attributs d'instances et attributs de classe \n",
    "\n",
    "class Student:\n",
    "    name='Aladin' # attribut de classe \n",
    "    def __init__(self):\n",
    "        self.age=30 # attribut d'instance\n",
    "\n",
    "    @classmethod\n",
    "    def displayName(cls):\n",
    "        print(\"Le nom de l'étudiant est : \", cls.name)\n",
    "\n",
    "print (Student.displayName())\n",
    "Stud= Student()\n",
    "print(Stud.displayName()) # affice la même chose que le précédent \n",
    "Student.displayName()"
   ]
  },
  {
   "cell_type": "markdown",
   "id": "3a86446f-4127-4e9f-a237-e741b3f6edfc",
   "metadata": {},
   "source": [
    "# Les méthodes statiques\n",
    "Une méthode statique est une méthode de classe ayant la propriété d'être exécutée sans passer par l'instanciation"
   ]
  },
  {
   "cell_type": "code",
   "execution_count": 15,
   "id": "ffa3bcc3-e410-4eef-9674-0aaf9cec4230",
   "metadata": {},
   "outputs": [
    {
     "name": "stdout",
     "output_type": "stream",
     "text": [
      "Voici un exemple de méthode statique en python \n"
     ]
    }
   ],
   "source": [
    "# Exemple de méthode statique \n",
    "class myClass:\n",
    "    def __init__(self):\n",
    "        pass\n",
    "    # création d'une méthode statique\n",
    "    @staticmethod\n",
    "    def myStaticMethod():\n",
    "        print('Voici un exemple de méthode statique en python ')\n",
    "\n",
    "myClass.myStaticMethod()"
   ]
  },
  {
   "cell_type": "markdown",
   "id": "e1a3c799-1e62-4300-ae56-be3f06009cf5",
   "metadata": {},
   "source": [
    "En **programmation orientée objet (POO) en Python**, la principale différence entre une **méthode de classe** (`@classmethod`) et une **méthode statique** (`@staticmethod`) réside dans la manière dont elles interagissent avec la classe et ses instances :\n",
    "\n",
    "### 1. **Méthode de classe (`@classmethod`)**\n",
    "- Elle prend **automatiquement** la classe comme premier paramètre (conventionnellement nommé `cls`).\n",
    "- Elle peut **modifier ou accéder** aux attributs de classe.\n",
    "- Elle est utile lorsque l'on veut travailler avec la classe plutôt qu'avec une instance spécifique.\n",
    "\n",
    "#### Exemple :\n",
    "```python\n",
    "class Voiture:\n",
    "    marque = \"Toyota\"  # Attribut de classe\n",
    "    \n",
    "    @classmethod\n",
    "    def changer_marque(cls, nouvelle_marque):\n",
    "        cls.marque = nouvelle_marque  # Modifie l'attribut de classe\n",
    "\n",
    "# Utilisation\n",
    "Voiture.changer_marque(\"Honda\")\n",
    "print(Voiture.marque)  # Affiche \"Honda\"\n",
    "```\n",
    "\n",
    "---\n",
    "\n",
    "### 2. **Méthode statique (`@staticmethod`)**\n",
    "- Elle ne prend **aucun paramètre particulier** (ni `self` ni `cls`).\n",
    "- Elle se comporte comme une fonction classique mais est **définie dans une classe** pour une question d’organisation.\n",
    "- Elle **n’a pas accès** aux attributs ou méthodes de la classe.\n",
    "- Elle est utile pour des **fonctions auxiliaires** qui ont un lien logique avec la classe mais n'ont pas besoin d'accéder à ses données.\n",
    "\n",
    "#### Exemple :\n",
    "```python\n",
    "class MathUtil:\n",
    "    @staticmethod\n",
    "    def ajouter(a, b):\n",
    "        return a + b\n",
    "\n",
    "# Utilisation\n",
    "print(MathUtil.ajouter(3, 5))  # Affiche 8\n",
    "```\n",
    "\n",
    "---\n",
    "\n",
    "### **Résumé des différences :**\n",
    "\n",
    "| Caractéristique  | `@classmethod` | `@staticmethod` |\n",
    "|-----------------|---------------|----------------|\n",
    "| Paramètre obligatoire | `cls` (référence la classe) | Aucun |\n",
    "| Accès aux attributs de classe | Oui | Non |\n",
    "| Peut modifier la classe | Oui | Non |\n",
    "| Fonctionne comme une fonction normale | Non | Oui |\n",
    "\n",
    "En résumé :\n",
    "- Utilisez **`@classmethod`** si la méthode doit interagir avec la classe.\n",
    "- Utilisez **`@staticmethod`** si la méthode ne dépend ni de la classe ni de ses instances.\n",
    "\n",
    "Tu veux un exemple plus concret pour mieux illustrer ces différences ? 😊"
   ]
  },
  {
   "cell_type": "code",
   "execution_count": null,
   "id": "e22f7e2f-3f74-4ea9-afa6-6515559e06ff",
   "metadata": {},
   "outputs": [],
   "source": []
  },
  {
   "cell_type": "markdown",
   "id": "b5fc1d1f-16a1-417f-9ba6-388a8ca2547b",
   "metadata": {},
   "source": [
    "# HERITAGE EN PYTHON "
   ]
  },
  {
   "cell_type": "code",
   "execution_count": 17,
   "id": "0863e644-e8f3-457f-95ed-857052e97d09",
   "metadata": {},
   "outputs": [
    {
     "name": "stdout",
     "output_type": "stream",
     "text": [
      "nom:  27\n",
      "Age:  Albert \n",
      "Filière:  math\n"
     ]
    }
   ],
   "source": [
    "# Un exemple très simple\n",
    "\n",
    "class Personne:\n",
    "    def __init__(self, age , nom):\n",
    "        self.nom=nom\n",
    "        self.age=age\n",
    "\n",
    "# créons maintenant une classe fille nommée Student qui hérite les mêmes méthodes et \n",
    "#propriétés de la classe mère Personne. --> class classe_fille(classe_mèrre)\n",
    "\n",
    "class Student(Personne):\n",
    "    # Définition des attributs \n",
    "    def __init__(self,nom,age,filiere):\n",
    "        # Héritage des attributs depuis la classe mère\n",
    "        Personne.__init__(self,nom,age)\n",
    "        # ajout d'un nouvel attribut , filiere à la classe fille\n",
    "        self.filiere=filiere\n",
    "\n",
    "Stud = Student(\"Albert \", 27,\"math\")\n",
    "print(\"nom: \",Stud.nom)\n",
    "print(\"Age: \",Stud.age)\n",
    "print('Filière: ',Stud.filiere)"
   ]
  },
  {
   "cell_type": "markdown",
   "id": "15762704-1a1d-44ae-8122-d3b8d340c6f4",
   "metadata": {},
   "source": [
    "# HERITAGE MULTIPLE"
   ]
  },
  {
   "cell_type": "code",
   "execution_count": 18,
   "id": "d7035619-03d7-40a4-b986-913c8dfe6673",
   "metadata": {},
   "outputs": [
    {
     "name": "stdout",
     "output_type": "stream",
     "text": [
      "7\n",
      "5.75\n",
      "19320\n"
     ]
    }
   ],
   "source": [
    "class Calcul1:\n",
    "    def Somme(self,a,b):\n",
    "        return a+b\n",
    "\n",
    "class Calcul2:\n",
    "    def Multiplication(self,a,b):\n",
    "        return a*b\n",
    "\n",
    "# héritage multiple\n",
    "class Calcul3(Calcul1,Calcul2):\n",
    "    def division(self,a,b):\n",
    "        return a/b\n",
    "\n",
    "Calcul=Calcul3()\n",
    "print(Calcul.Somme(2,5))\n",
    "print(Calcul.division(23,4))\n",
    "print(Calcul.Multiplication(345,56))"
   ]
  },
  {
   "cell_type": "code",
   "execution_count": 19,
   "id": "f51b0e4e-86c8-4827-9169-7989ce5f03b9",
   "metadata": {},
   "outputs": [],
   "source": [
    "# La surcharge de méthode en python "
   ]
  },
  {
   "cell_type": "markdown",
   "id": "a83d2d68-95ab-4537-a2ef-b848b4d2ea90",
   "metadata": {},
   "source": [
    "# LE POLYMORPHISME"
   ]
  },
  {
   "cell_type": "code",
   "execution_count": 22,
   "id": "551193a1-a198-4d57-aa4b-67a00827e571",
   "metadata": {},
   "outputs": [
    {
     "name": "stdout",
     "output_type": "stream",
     "text": [
      "Le nom:  Majid Age:  23 Section:  Informatique\n",
      "None\n"
     ]
    }
   ],
   "source": [
    "# eXEMPLE : Redéfinition des méthodes \n",
    "\n",
    "class Personne:\n",
    "    def __init__(self,name,age):\n",
    "        self.nom=name\n",
    "        self.age=age\n",
    "    def afficher(self):\n",
    "        print(\"Le nom est : \",self.nom, \"L'âge est : \",self.age)\n",
    "\n",
    "\n",
    "# Héritage de la classe parent\n",
    "\n",
    "class Student(Personne):\n",
    "    def __init__(self,name,age,section):\n",
    "        Personne.__init__(self,name,age)\n",
    "        self.section=section\n",
    "\n",
    "    # Modification de la méthode afficher\n",
    "    def afficher(self):\n",
    "        print(\"Le nom: \",self.nom,\"Age: \",self.age\n",
    "             ,\"Section: \", self.section)\n",
    "\n",
    "Stud=Student(\"Majid\",23,'Informatique')\n",
    "print(Stud.afficher())"
   ]
  },
  {
   "cell_type": "code",
   "execution_count": null,
   "id": "d9ccdf8e-eba9-447d-932d-f97b529d83cc",
   "metadata": {},
   "outputs": [],
   "source": []
  }
 ],
 "metadata": {
  "kernelspec": {
   "display_name": "Python 3 (ipykernel)",
   "language": "python",
   "name": "python3"
  },
  "language_info": {
   "codemirror_mode": {
    "name": "ipython",
    "version": 3
   },
   "file_extension": ".py",
   "mimetype": "text/x-python",
   "name": "python",
   "nbconvert_exporter": "python",
   "pygments_lexer": "ipython3",
   "version": "3.12.7"
  }
 },
 "nbformat": 4,
 "nbformat_minor": 5
}
