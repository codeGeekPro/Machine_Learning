{
 "cells": [
  {
   "cell_type": "markdown",
   "id": "16aca1a6-1db0-4eef-b2dd-7718e14f2fb2",
   "metadata": {},
   "source": [
    "# sklearn.impute\n",
    "Les transformateurs permettant de nettoyer nos dataset en éliminant ou rmplaçant les valeurs manquantes dans le dataset "
   ]
  },
  {
   "cell_type": "markdown",
   "id": "8884ef28-9554-4212-b125-721998d41977",
   "metadata": {},
   "source": [
    "# SIMPLE IMPUTER\n",
    "Remplace toutes les valeurs manquantes par une valeur statistique\n",
    " - missing_values\n",
    " - strategy : mean , median , most_frequent ,constant\n",
    " - fill_value(pour constant)"
   ]
  },
  {
   "cell_type": "code",
   "execution_count": 2,
   "id": "334dca17-4525-4c49-895c-4af9b39ef17d",
   "metadata": {},
   "outputs": [],
   "source": [
    "import numpy as np\n",
    "import matplotlib.pyplot as plt\n",
    "import pandas as pd\n",
    "import seaborn as sns\n",
    "from sklearn.linear_model import SGDClassifier"
   ]
  },
  {
   "cell_type": "code",
   "execution_count": 3,
   "id": "342e02d0-80f1-4a06-8bbd-38043a189f9d",
   "metadata": {},
   "outputs": [],
   "source": [
    "from sklearn.impute import SimpleImputer"
   ]
  },
  {
   "cell_type": "code",
   "execution_count": 3,
   "id": "5dad788c-dc2f-4f92-927f-337aea44852f",
   "metadata": {},
   "outputs": [],
   "source": [
    "X = np.array([[10,3],\n",
    "             [0,4],\n",
    "             [5,3],\n",
    "             [np.nan , 3]])"
   ]
  },
  {
   "cell_type": "code",
   "execution_count": 9,
   "id": "d361467e-5b79-4c23-aa26-a34ef0b337db",
   "metadata": {},
   "outputs": [
    {
     "data": {
      "text/plain": [
       "array([[10.,  3.],\n",
       "       [ 0.,  4.],\n",
       "       [ 5.,  3.],\n",
       "       [ 5.,  3.]])"
      ]
     },
     "execution_count": 9,
     "metadata": {},
     "output_type": "execute_result"
    }
   ],
   "source": [
    "imputer= SimpleImputer(missing_values=np.nan,\n",
    "             strategy='mean') # on peut avoir np.inf ...\n",
    "imputer.fit_transform(X)"
   ]
  },
  {
   "cell_type": "markdown",
   "id": "30c9e10b-b76c-47b3-9655-92c8d16db400",
   "metadata": {},
   "source": [
    " Tranform(X_test) remplace les valeurs manquantes par les moyennes calculées sur X_train "
   ]
  },
  {
   "cell_type": "code",
   "execution_count": 10,
   "id": "c44d04ad-8139-4d52-b428-d05b687fb81a",
   "metadata": {},
   "outputs": [
    {
     "data": {
      "text/plain": [
       "array([[12.  ,  5.  ],\n",
       "       [40.  ,  2.  ],\n",
       "       [ 5.  ,  5.  ],\n",
       "       [ 5.  ,  3.25]])"
      ]
     },
     "execution_count": 10,
     "metadata": {},
     "output_type": "execute_result"
    }
   ],
   "source": [
    "X_test =np.array([[12,5],\n",
    "                 [40,2],\n",
    "                 [5,5],\n",
    "                 [np.nan, np.nan]])\n",
    "imputer.transform(X_test)"
   ]
  },
  {
   "cell_type": "markdown",
   "id": "ae29d796-2fdf-41ed-96e2-57b97c715550",
   "metadata": {},
   "source": [
    "# KNN Imputer\n",
    "\n",
    "Il remplace toutes les valeurs manquantes par des valeurs des plus proches voisins  near neighbors , nombre de voisins optimal"
   ]
  },
  {
   "cell_type": "code",
   "execution_count": 4,
   "id": "c4f79c0d-4990-47c3-b898-17b392b140de",
   "metadata": {},
   "outputs": [],
   "source": [
    "from sklearn.impute import KNNImputer"
   ]
  },
  {
   "cell_type": "code",
   "execution_count": 5,
   "id": "f85f0179-4eae-44ca-9ea8-e7d2f16a05a9",
   "metadata": {},
   "outputs": [],
   "source": [
    "X = np.array([[1,100],\n",
    "             [2,30],\n",
    "             [3,15],\n",
    "             [np.nan,20]])"
   ]
  },
  {
   "cell_type": "code",
   "execution_count": 6,
   "id": "7d5a6d7e-17e2-4616-ada4-26d4ef652de9",
   "metadata": {},
   "outputs": [
    {
     "data": {
      "text/plain": [
       "array([[  1., 100.],\n",
       "       [  2.,  30.],\n",
       "       [  3.,  15.],\n",
       "       [  3.,  20.]])"
      ]
     },
     "execution_count": 6,
     "metadata": {},
     "output_type": "execute_result"
    }
   ],
   "source": [
    "imputer = KNNImputer(n_neighbors=1)\n",
    "imputer.fit_transform(X)"
   ]
  },
  {
   "cell_type": "markdown",
   "id": "db1c95dc-df53-4937-a711-2e04e302ebdd",
   "metadata": {},
   "source": [
    " # MissingIndicator\n",
    " il utilise des variablesbooléenne qui indique l ábsence de valeurs dans le dataset \n",
    "  parfois le manque d'infos est une information "
   ]
  },
  {
   "cell_type": "code",
   "execution_count": 7,
   "id": "fcdcc9bc-b0be-48b3-945c-c975da2f2200",
   "metadata": {},
   "outputs": [],
   "source": [
    "from sklearn.impute import MissingIndicator"
   ]
  },
  {
   "cell_type": "code",
   "execution_count": 8,
   "id": "c56cf2d1-3110-4aa5-9733-7cac75d08ed3",
   "metadata": {},
   "outputs": [],
   "source": [
    "X = np.array([[1,100],\n",
    "             [2,30],\n",
    "             [3,15],\n",
    "             [np.nan,np.nan]])"
   ]
  },
  {
   "cell_type": "code",
   "execution_count": 9,
   "id": "5afb11e0-338a-41cc-a398-e3bde3bc84d7",
   "metadata": {},
   "outputs": [
    {
     "data": {
      "text/plain": [
       "array([[False, False],\n",
       "       [False, False],\n",
       "       [False, False],\n",
       "       [ True,  True]])"
      ]
     },
     "execution_count": 9,
     "metadata": {},
     "output_type": "execute_result"
    }
   ],
   "source": [
    "MissingIndicator().fit_transform(X)"
   ]
  },
  {
   "cell_type": "code",
   "execution_count": null,
   "id": "e34d4bb5-6492-4f43-b55a-9e2132a30fc4",
   "metadata": {},
   "outputs": [],
   "source": []
  }
 ],
 "metadata": {
  "kernelspec": {
   "display_name": "Python 3 (ipykernel)",
   "language": "python",
   "name": "python3"
  },
  "language_info": {
   "codemirror_mode": {
    "name": "ipython",
    "version": 3
   },
   "file_extension": ".py",
   "mimetype": "text/x-python",
   "name": "python",
   "nbconvert_exporter": "python",
   "pygments_lexer": "ipython3",
   "version": "3.12.7"
  }
 },
 "nbformat": 4,
 "nbformat_minor": 5
}
