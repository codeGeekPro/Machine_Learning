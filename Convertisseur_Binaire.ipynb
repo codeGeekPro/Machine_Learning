{
 "cells": [
  {
   "cell_type": "code",
   "execution_count": 17,
   "id": "01073cd7-dd6d-4326-83f2-8b45a62c67f4",
   "metadata": {},
   "outputs": [
    {
     "name": "stdout",
     "output_type": "stream",
     "text": [
      "Bienvenu dans le convertisseur de nombre. \n",
      " 1-) conversion binaire->décimal\n",
      " 2-)conversion décimal->binaire\n"
     ]
    },
    {
     "name": "stdin",
     "output_type": "stream",
     "text": [
      "Entrez votre choix :  1\n",
      "Entrz le nombre à convertir :  1100\n"
     ]
    },
    {
     "name": "stdout",
     "output_type": "stream",
     "text": [
      "3\n"
     ]
    }
   ],
   "source": [
    " # convertisseur binaire \n",
    "# Affichage du menu \n",
    "print(\"Bienvenu dans le convertisseur de nombre.\", \"\\n\", \"1-) conversion binaire->décimal\\n\",\"2-)conversion décimal->binaire\")\n",
    "choix=int(input(\"Entrez votre choix : \"))\n",
    "a=int(input(\"Entrz le nombre à convertir : \"))\n",
    "# récupère les entrées tout en faisant une distinction entre décimal et entier positif ou négatif\n",
    "if(choix==1):\n",
    "    a=str(a)\n",
    "    s=0\n",
    "    for i in range(0,len(a)):\n",
    "        j=int(a[i])*2**i\n",
    "        s=j+s\n",
    "    print(s)\n",
    "# conversion binaire décimal"
   ]
  },
  {
   "cell_type": "code",
   "execution_count": 19,
   "id": "6107d22d-771b-4558-9737-5507976c4076",
   "metadata": {},
   "outputs": [
    {
     "name": "stdout",
     "output_type": "stream",
     "text": [
      "Bienvenu dans le convertisseur de nombre. \n",
      " 1-) conversion binaire->décimal\n",
      " 2-)conversion décimal->binaire\n"
     ]
    },
    {
     "name": "stdin",
     "output_type": "stream",
     "text": [
      "Entrez votre choix :  1\n",
      "Entrez le nombre à convertir :  1100\n"
     ]
    },
    {
     "name": "stdout",
     "output_type": "stream",
     "text": [
      "12\n"
     ]
    }
   ],
   "source": [
    "# Convertisseur binaire \n",
    "# Affichage du menu \n",
    "print(\"Bienvenu dans le convertisseur de nombre.\", \"\\n\", \"1-) conversion binaire->décimal\\n\",\"2-)conversion décimal->binaire\")\n",
    "choix = int(input(\"Entrez votre choix : \"))\n",
    "a = int(input(\"Entrez le nombre à convertir : \"))  # Correction ici\n",
    "\n",
    "# Conversion binaire->décimal\n",
    "if choix == 1:\n",
    "    a = str(a)  # Utilisez str au lieu de string\n",
    "    s = 0\n",
    "    for i in range(len(a)):\n",
    "        j = int(a[i]) * 2 ** (len(a) - 1 - i)  # Correction de l'exposant\n",
    "        s += j\n",
    "    print(s)  # Utilisation de print au lieu de return\n",
    "\n",
    "# Conversion décimal->binaire (ajouté pour la complétude)\n",
    "elif choix == 2:\n",
    "    print(bin(a)[2:])  # Afficher le nombre converti en binaire sans le préfixe '0b'\n",
    "\n"
   ]
  },
  {
   "cell_type": "code",
   "execution_count": null,
   "id": "7e5f9b54-b4ce-4dc4-9b38-807ec590c053",
   "metadata": {},
   "outputs": [],
   "source": []
  }
 ],
 "metadata": {
  "kernelspec": {
   "display_name": "Python 3 (ipykernel)",
   "language": "python",
   "name": "python3"
  },
  "language_info": {
   "codemirror_mode": {
    "name": "ipython",
    "version": 3
   },
   "file_extension": ".py",
   "mimetype": "text/x-python",
   "name": "python",
   "nbconvert_exporter": "python",
   "pygments_lexer": "ipython3",
   "version": "3.11.5"
  }
 },
 "nbformat": 4,
 "nbformat_minor": 5
}
