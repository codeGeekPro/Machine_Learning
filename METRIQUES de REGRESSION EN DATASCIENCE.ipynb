{
 "cells": [
  {
   "cell_type": "markdown",
   "id": "ed1a89a9-f86b-45fa-a877-53fb3570d743",
   "metadata": {},
   "source": [
    "MSE --> Mean Squared Error Erreur quadratique moyenne\n",
    "MAE --> Mean Absolute Error  erreur absolue moyenne\n",
    "R2 --> Coefficient de détermination"
   ]
  },
  {
   "cell_type": "code",
   "execution_count": 2,
   "id": "65a60149-2f9f-4692-ad1b-781dc5cbf08d",
   "metadata": {},
   "outputs": [],
   "source": [
    "import numpy as np\n",
    "import matplotlib.pyplot as plt\n",
    "from sklearn.metrics import *"
   ]
  },
  {
   "cell_type": "code",
   "execution_count": 3,
   "id": "c3ad9ffa-0de5-45ac-956e-692cbcda01ab",
   "metadata": {},
   "outputs": [
    {
     "name": "stdout",
     "output_type": "stream",
     "text": [
      "MAE :  2.0\n",
      "MSE :  8.0\n"
     ]
    }
   ],
   "source": [
    "y=np.array([1,2])\n",
    "y_pred=np.array([5,2])\n",
    "print('MAE : ', mean_absolute_error(y,y_pred))\n",
    "print('MSE : ', mean_squared_error(y,y_pred)) #ensuite la RMSE root mean..."
   ]
  },
  {
   "cell_type": "markdown",
   "id": "6ce82650-248e-482f-a53d-4a6e4efa5da4",
   "metadata": {},
   "source": [
    "# Quand utiliser la MSE plutôt que la MAE?\n",
    "- Mean Absolute Error : l'importance d'une erreur est linéaire avec son amplitude . Il est conseillé de l'utiliser si le dataset présente des valeurs abérrantes(outliers)\n",
    "- Root Mean Squared Error : l'importance d'une erreur est exponentielle avec son amplitude . Il est conseillé de l'utiliser si vous accordez une grande importance aux grandes erreurs\n",
    "\n",
    "\n",
    "-Median Absolute Error(median_absolute_error)\n",
    "\n",
    "On peut toutes les utliser ainsi on recoltera beaucoup plus d'infos"
   ]
  },
  {
   "cell_type": "code",
   "execution_count": 4,
   "id": "da0fe9ce-813f-47c1-be79-f3122b39665b",
   "metadata": {},
   "outputs": [
    {
     "ename": "ImportError",
     "evalue": "cannot import name 'LinearRegression' from 'sklearn.model_selection' (C:\\ProgramData\\anaconda3\\Lib\\site-packages\\sklearn\\model_selection\\__init__.py)",
     "output_type": "error",
     "traceback": [
      "\u001b[1;31m---------------------------------------------------------------------------\u001b[0m",
      "\u001b[1;31mImportError\u001b[0m                               Traceback (most recent call last)",
      "Cell \u001b[1;32mIn[4], line 2\u001b[0m\n\u001b[0;32m      1\u001b[0m \u001b[38;5;28;01mfrom\u001b[39;00m \u001b[38;5;21;01msklearn\u001b[39;00m\u001b[38;5;21;01m.\u001b[39;00m\u001b[38;5;21;01mdatasets\u001b[39;00m \u001b[38;5;28;01mimport\u001b[39;00m load_iris\n\u001b[1;32m----> 2\u001b[0m \u001b[38;5;28;01mfrom\u001b[39;00m \u001b[38;5;21;01msklearn\u001b[39;00m\u001b[38;5;21;01m.\u001b[39;00m\u001b[38;5;21;01mmodel_selection\u001b[39;00m \u001b[38;5;28;01mimport\u001b[39;00m LinearRegression\n\u001b[0;32m      4\u001b[0m boston\u001b[38;5;241m=\u001b[39mload_iris()\n\u001b[0;32m      5\u001b[0m X\u001b[38;5;241m=\u001b[39mboston\u001b[38;5;241m.\u001b[39mdata\n",
      "\u001b[1;31mImportError\u001b[0m: cannot import name 'LinearRegression' from 'sklearn.model_selection' (C:\\ProgramData\\anaconda3\\Lib\\site-packages\\sklearn\\model_selection\\__init__.py)"
     ]
    }
   ],
   "source": [
    "from sklearn.datasets import load_iris\n",
    "from sklearn.model_selection import LinearRegression\n",
    "\n",
    "boston=load_iris()\n",
    "X=boston.data\n",
    "y=boston.target\n",
    "\n",
    "model=LinearRegression()\n",
    "model.fit(X,y)\n",
    "y_pred=model.predict(X)\n",
    "\n",
    "plt.scatter(X[:,5],y,label='y')\n",
    "plt.scatter(X[:,5],y_pred,alpha=0.8,label=\"y_pred\")\n",
    "plt.legend()"
   ]
  },
  {
   "cell_type": "code",
   "execution_count": null,
   "id": "a5e183ba-2031-4816-be01-d231c86d1719",
   "metadata": {},
   "outputs": [],
   "source": [
    "from sklearn.datasets import fetch_california_housing\n",
    "housing = fetch_california_housing()"
   ]
  },
  {
   "cell_type": "code",
   "execution_count": null,
   "id": "9b60ca60-fc9b-45ca-a2d2-4cf730370159",
   "metadata": {},
   "outputs": [],
   "source": [
    "from sklearn.datasets import fetch_openml\n",
    "housing = fetch_openml(name=\"house_prices\", as_frame=True)"
   ]
  },
  {
   "cell_type": "code",
   "execution_count": null,
   "id": "531f215b-d193-480a-a2fe-cc2c3ea1b6e8",
   "metadata": {},
   "outputs": [],
   "source": [
    "err_hist=np.abs(y-y_pred)\n",
    "plt.hist(err_hist, bins=50)\n",
    "plt.show() # Il ne faut pas se limiter à une métrique"
   ]
  },
  {
   "cell_type": "markdown",
   "id": "38fa8bad-163d-46b6-b4f5-fdf1090f0044",
   "metadata": {},
   "source": [
    "# Le coefficient de détermination ( dans la méthode score)\n",
    "Évalue la performance du modèle par rapport au niveau de variation présent dans les données ( le rapport de la variance expliquée sur la variance totale)"
   ]
  },
  {
   "cell_type": "code",
   "execution_count": null,
   "id": "4b11cf5e-cec6-42f2-8c80-e58ac5f8f9b3",
   "metadata": {},
   "outputs": [],
   "source": []
  }
 ],
 "metadata": {
  "kernelspec": {
   "display_name": "Python 3 (ipykernel)",
   "language": "python",
   "name": "python3"
  },
  "language_info": {
   "codemirror_mode": {
    "name": "ipython",
    "version": 3
   },
   "file_extension": ".py",
   "mimetype": "text/x-python",
   "name": "python",
   "nbconvert_exporter": "python",
   "pygments_lexer": "ipython3",
   "version": "3.12.7"
  }
 },
 "nbformat": 4,
 "nbformat_minor": 5
}
