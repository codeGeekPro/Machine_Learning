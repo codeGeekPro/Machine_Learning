{
 "cells": [
  {
   "cell_type": "markdown",
   "id": "e72c22f0-9c74-473a-9cd9-76a6af7eef5b",
   "metadata": {},
   "source": [
    "# VALEURS ABERRANTES \n"
   ]
  },
  {
   "cell_type": "code",
   "execution_count": 2,
   "id": "fdcf679f-0417-4624-9fa7-79d29b85a72a",
   "metadata": {},
   "outputs": [
    {
     "name": "stdout",
     "output_type": "stream",
     "text": [
      "9.0\n"
     ]
    }
   ],
   "source": [
    "import numpy as np\n",
    "\n",
    "data = [10, 12, 14, 15, 16, 20, 30, 100]  # Exemple de données\n",
    "Q1 = np.percentile(data, 25) # PREMIER QUARTILE \n",
    "Q3 = np.percentile(data, 75)  # Deuxième quartile \n",
    "IQR = Q3 - Q1   # écart Interquartile\n",
    "print(IQR)\n"
   ]
  },
  {
   "cell_type": "code",
   "execution_count": 4,
   "id": "2945ddab-1a0e-4e1c-b5df-201877700a01",
   "metadata": {},
   "outputs": [
    {
     "name": "stdout",
     "output_type": "stream",
     "text": [
      "Valeurs aberrantes : [100]\n"
     ]
    }
   ],
   "source": [
    "seuil_bas = Q1 - 1.5 * IQR   #  cette façon de calculer les seuils sont une convention \n",
    "seuil_haut = Q3 + 1.5 * IQR\n",
    "\n",
    "outliers = [x for x in data if x < seuil_bas or x > seuil_haut]\n",
    "print(\"Valeurs aberrantes :\", outliers)\n"
   ]
  },
  {
   "cell_type": "markdown",
   "id": "d67bab62-b8d3-4cf2-b96b-d03b8023f51e",
   "metadata": {},
   "source": [
    "# z-score ou la règle des trois sigmas\n",
    "\n",
    " Une valeur est considérée comme aberrante si son Z-score est supérieur à 3 ou inférieur à -3."
   ]
  },
  {
   "cell_type": "code",
   "execution_count": 6,
   "id": "5876966e-6cbc-4cc7-971a-05823d993268",
   "metadata": {},
   "outputs": [
    {
     "name": "stdout",
     "output_type": "stream",
     "text": [
      "Valeurs aberrantes détectées : []\n"
     ]
    }
   ],
   "source": [
    "# La règle des 3 sigmas \n",
    "\n",
    "import numpy as np\n",
    "from scipy.stats import zscore\n",
    "\n",
    "# Données\n",
    "data = [10, 12, 14, 15, 16, 20, 30, 10022]\n",
    "\n",
    "# Calcul du Z-score  \n",
    "z_scores = np.abs(zscore(data))  # On prend la valeur absolue\n",
    "\n",
    "# Détection des outliers\n",
    "outliers = np.array(data)[z_scores > 3]\n",
    "\n",
    "print(\"Valeurs aberrantes détectées :\", outliers)\n"
   ]
  },
  {
   "cell_type": "code",
   "execution_count": null,
   "id": "ef4ee68b-9457-46f8-b12d-b51765e377f4",
   "metadata": {},
   "outputs": [],
   "source": []
  }
 ],
 "metadata": {
  "kernelspec": {
   "display_name": "Python 3 (ipykernel)",
   "language": "python",
   "name": "python3"
  },
  "language_info": {
   "codemirror_mode": {
    "name": "ipython",
    "version": 3
   },
   "file_extension": ".py",
   "mimetype": "text/x-python",
   "name": "python",
   "nbconvert_exporter": "python",
   "pygments_lexer": "ipython3",
   "version": "3.12.7"
  }
 },
 "nbformat": 4,
 "nbformat_minor": 5
}
