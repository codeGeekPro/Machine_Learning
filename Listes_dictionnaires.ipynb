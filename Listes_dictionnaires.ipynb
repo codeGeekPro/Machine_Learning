{
 "cells": [
  {
   "cell_type": "code",
   "execution_count": 13,
   "id": "909766a4",
   "metadata": {},
   "outputs": [
    {
     "name": "stdout",
     "output_type": "stream",
     "text": [
      "{'souris': 'mouse', 'chien': 'dog', 'chat': 'cat', 'singe': 'monkey'}\n",
      "{'bananes': 3, 'Oranges': 5, 'avocats': 19}\n",
      "{'dict_1': {'souris': 'mouse', 'chien': 'dog', 'chat': 'cat', 'singe': 'monkey'}, 'dict_2': {'bananes': 3, 'Oranges': 5, 'avocats': 19}}\n",
      "{'W1': array([[ 0.7800169 , -0.84761714,  1.04639372],\n",
      "       [-1.06272255, -0.08475814,  0.29527146],\n",
      "       [-1.18698434,  1.44989934,  2.25665282],\n",
      "       [ 0.69775772,  1.71546327, -0.20359807]])}\n"
     ]
    }
   ],
   "source": [
    "traduction = {\n",
    "    'souris': 'mouse',\n",
    "    'chien': 'dog',\n",
    "    'chat': 'cat',\n",
    "    'singe': 'monkey'\n",
    "}\n",
    "\n",
    "print(traduction)\n",
    "\n",
    "inventaire = {\n",
    "    \"bananes\": 3,\n",
    "    \"Oranges\": 5,\n",
    "    \"avocats\": 19\n",
    "\n",
    "}\n",
    "\n",
    "print(inventaire)\n",
    "\n",
    "dictionnaire_3 = {\n",
    "\n",
    "    \"dict_1\": traduction,\n",
    "    \"dict_2\": inventaire,\n",
    "\n",
    "}\n",
    "\n",
    "print(dictionnaire_3)\n",
    "\n",
    "import numpy as np\n",
    "\n",
    "Allo= {\n",
    "\n",
    "    \"W1\" : np.random.randn(4,3)\n",
    "}\n",
    "print(Allo)"
   ]
  },
  {
   "cell_type": "code",
   "execution_count": 15,
   "id": "5898f3ea",
   "metadata": {},
   "outputs": [
    {
     "data": {
      "text/plain": [
       "array([[0.66776788, 0.44490673, 0.35455173],\n",
       "       [0.96074002, 0.7758832 , 0.23261448],\n",
       "       [0.100989  , 0.25396526, 0.05508127]])"
      ]
     },
     "execution_count": 15,
     "metadata": {},
     "output_type": "execute_result"
    }
   ],
   "source": [
    "A=np.random.random((3,3))\n",
    "A"
   ]
  },
  {
   "cell_type": "code",
   "execution_count": 17,
   "id": "5664d1bf",
   "metadata": {},
   "outputs": [],
   "source": [
    "inventaire = {\n",
    "    \"bananes\": 3,\n",
    "    \"Oranges\": 5,\n",
    "    \"avocats\": 19\n",
    "\n",
    "}"
   ]
  },
  {
   "cell_type": "code",
   "execution_count": 19,
   "id": "bb5186fd",
   "metadata": {},
   "outputs": [
    {
     "data": {
      "text/plain": [
       "dict_keys(['bananes', 'Oranges', 'avocats'])"
      ]
     },
     "execution_count": 19,
     "metadata": {},
     "output_type": "execute_result"
    }
   ],
   "source": [
    "inventaire.keys()"
   ]
  },
  {
   "cell_type": "code",
   "execution_count": 21,
   "id": "e4873d88",
   "metadata": {},
   "outputs": [
    {
     "data": {
      "text/plain": [
       "{'bananes': 3, 'Oranges': 5, 'avocats': 19, 'noix de coco': 1209}"
      ]
     },
     "execution_count": 21,
     "metadata": {},
     "output_type": "execute_result"
    }
   ],
   "source": [
    "inventaire['noix de coco']=1209\n",
    "inventaire"
   ]
  },
  {
   "cell_type": "code",
   "execution_count": 23,
   "id": "bb939a40",
   "metadata": {},
   "outputs": [
    {
     "name": "stdout",
     "output_type": "stream",
     "text": [
      "19\n"
     ]
    }
   ],
   "source": [
    "print(inventaire.get('avocats'))"
   ]
  },
  {
   "cell_type": "code",
   "execution_count": 25,
   "id": "e5503af1",
   "metadata": {},
   "outputs": [],
   "source": [
    "liste_1=['paris','Abijan', 'Lomé']"
   ]
  },
  {
   "cell_type": "code",
   "execution_count": 27,
   "id": "6185ed08",
   "metadata": {},
   "outputs": [
    {
     "data": {
      "text/plain": [
       "{'paris': 'defaut', 'Abijan': 'defaut', 'Lomé': 'defaut'}"
      ]
     },
     "execution_count": 27,
     "metadata": {},
     "output_type": "execute_result"
    }
   ],
   "source": [
    "inventaire.fromkeys(liste_1,'defaut')"
   ]
  },
  {
   "cell_type": "code",
   "execution_count": 29,
   "id": "061479b7",
   "metadata": {},
   "outputs": [
    {
     "name": "stdout",
     "output_type": "stream",
     "text": [
      "{'positif': [6], 'negatif': [-1]}\n"
     ]
    }
   ],
   "source": [
    "classeur={\n",
    "    'positif': [],\n",
    "    'negatif' : []\n",
    "}\n",
    "\n",
    "def trier(classeur,nombre):\n",
    "    \n",
    "    if nombre>0:\n",
    "        classeur['positif'].append(nombre)\n",
    "    else:\n",
    "        classeur['negatif'].append(nombre)\n",
    "        \n",
    "# application de la fonction\n",
    "\n",
    "trier(classeur,6)\n",
    "trier(classeur,-1)\n",
    "print(classeur)\n",
    "    \n",
    "    "
   ]
  },
  {
   "cell_type": "code",
   "execution_count": null,
   "id": "59107671",
   "metadata": {},
   "outputs": [],
   "source": []
  },
  {
   "cell_type": "code",
   "execution_count": 34,
   "id": "6f580054",
   "metadata": {},
   "outputs": [
    {
     "data": {
      "text/plain": [
       "True"
      ]
     },
     "execution_count": 34,
     "metadata": {},
     "output_type": "execute_result"
    }
   ],
   "source": [
    "liste_1=['paris','Abijan', 'Lomé']\n",
    "all(liste_1)"
   ]
  },
  {
   "cell_type": "code",
   "execution_count": 36,
   "id": "945cccac",
   "metadata": {},
   "outputs": [
    {
     "name": "stdout",
     "output_type": "stream",
     "text": [
      "('paris', 'Abijan', 'Lomé')\n"
     ]
    }
   ],
   "source": [
    "tuple_1=tuple(liste_1)\n",
    "print(tuple_1)"
   ]
  },
  {
   "cell_type": "code",
   "execution_count": 38,
   "id": "43ba5223",
   "metadata": {},
   "outputs": [
    {
     "data": {
      "text/plain": [
       "[('bananes', 3), ('Oranges', 5), ('avocats', 19), ('noix de coco', 1209)]"
      ]
     },
     "execution_count": 38,
     "metadata": {},
     "output_type": "execute_result"
    }
   ],
   "source": [
    "list(inventaire.items())"
   ]
  },
  {
   "cell_type": "code",
   "execution_count": 40,
   "id": "4cc1f284",
   "metadata": {},
   "outputs": [],
   "source": [
    "def fibonacci(n):\n",
    "    a=0\n",
    "    b=1\n",
    "    fib=[]\n",
    "    while a<n :\n",
    "        a,b=b,a+b\n",
    "        fib.append(a)\n",
    "    return fib"
   ]
  },
  {
   "cell_type": "code",
   "execution_count": 42,
   "id": "19f1af44-c819-4af6-b30e-84bcd94dcff8",
   "metadata": {},
   "outputs": [],
   "source": [
    "def classer(classeur,nombre):\n",
    "    classeur=dict({})\n",
    "    # condition pour classer les nombres\n",
    "    if nombre<0 :\n",
    "        classeur['positif'].append(nombre)\n",
    "    elif nombre>0 :\n",
    "        classeur['negatif'].append(nombre)\n",
    "    else :\n",
    "        classeur['nul'].append(nombre)\n",
    "    return classeur\n"
   ]
  },
  {
   "cell_type": "code",
   "execution_count": 44,
   "id": "f60f1e87-00d9-4634-a440-76e7ade6b76d",
   "metadata": {},
   "outputs": [
    {
     "data": {
      "text/plain": [
       "array([1, 2, 3])"
      ]
     },
     "execution_count": 44,
     "metadata": {},
     "output_type": "execute_result"
    }
   ],
   "source": [
    "import numpy as np\n",
    "tab=np.array([1,2,3])\n",
    "tab"
   ]
  },
  {
   "cell_type": "code",
   "execution_count": 46,
   "id": "76cd31d9-0a63-4200-983b-d2babc6bffde",
   "metadata": {},
   "outputs": [
    {
     "name": "stdout",
     "output_type": "stream",
     "text": [
      "3\n"
     ]
    }
   ],
   "source": [
    "print(tab.size)"
   ]
  },
  {
   "cell_type": "code",
   "execution_count": 48,
   "id": "70eeabd5-401a-4d90-a638-6c57230b948c",
   "metadata": {},
   "outputs": [
    {
     "data": {
      "text/plain": [
       "'0b1111'"
      ]
     },
     "execution_count": 48,
     "metadata": {},
     "output_type": "execute_result"
    }
   ],
   "source": [
    "bin(15)"
   ]
  },
  {
   "cell_type": "code",
   "execution_count": null,
   "id": "1b9d3eff-2fb3-452b-a76e-02c62bfdd7bb",
   "metadata": {},
   "outputs": [],
   "source": []
  }
 ],
 "metadata": {
  "kernelspec": {
   "display_name": "Python 3 (ipykernel)",
   "language": "python",
   "name": "python3"
  },
  "language_info": {
   "codemirror_mode": {
    "name": "ipython",
    "version": 3
   },
   "file_extension": ".py",
   "mimetype": "text/x-python",
   "name": "python",
   "nbconvert_exporter": "python",
   "pygments_lexer": "ipython3",
   "version": "3.12.7"
  }
 },
 "nbformat": 4,
 "nbformat_minor": 5
}
