{
 "cells": [
  {
   "cell_type": "code",
   "execution_count": 1,
   "id": "399a927f-7818-471d-a1fb-3d3d193fb84b",
   "metadata": {},
   "outputs": [],
   "source": [
    "import random\n",
    "import os\n",
    "import math \n",
    "import glob\n",
    "import statistics\n",
    "import numpy as np"
   ]
  },
  {
   "cell_type": "code",
   "execution_count": 2,
   "id": "ef8fb856-e537-4586-b3af-7756f87e2b0b",
   "metadata": {},
   "outputs": [
    {
     "data": {
      "text/plain": [
       "['__doc__',\n",
       " '__loader__',\n",
       " '__name__',\n",
       " '__package__',\n",
       " '__spec__',\n",
       " 'acos',\n",
       " 'acosh',\n",
       " 'asin',\n",
       " 'asinh',\n",
       " 'atan',\n",
       " 'atan2',\n",
       " 'atanh',\n",
       " 'cbrt',\n",
       " 'ceil',\n",
       " 'comb',\n",
       " 'copysign',\n",
       " 'cos',\n",
       " 'cosh',\n",
       " 'degrees',\n",
       " 'dist',\n",
       " 'e',\n",
       " 'erf',\n",
       " 'erfc',\n",
       " 'exp',\n",
       " 'exp2',\n",
       " 'expm1',\n",
       " 'fabs',\n",
       " 'factorial',\n",
       " 'floor',\n",
       " 'fmod',\n",
       " 'frexp',\n",
       " 'fsum',\n",
       " 'gamma',\n",
       " 'gcd',\n",
       " 'hypot',\n",
       " 'inf',\n",
       " 'isclose',\n",
       " 'isfinite',\n",
       " 'isinf',\n",
       " 'isnan',\n",
       " 'isqrt',\n",
       " 'lcm',\n",
       " 'ldexp',\n",
       " 'lgamma',\n",
       " 'log',\n",
       " 'log10',\n",
       " 'log1p',\n",
       " 'log2',\n",
       " 'modf',\n",
       " 'nan',\n",
       " 'nextafter',\n",
       " 'perm',\n",
       " 'pi',\n",
       " 'pow',\n",
       " 'prod',\n",
       " 'radians',\n",
       " 'remainder',\n",
       " 'sin',\n",
       " 'sinh',\n",
       " 'sqrt',\n",
       " 'sumprod',\n",
       " 'tan',\n",
       " 'tanh',\n",
       " 'tau',\n",
       " 'trunc',\n",
       " 'ulp']"
      ]
     },
     "execution_count": 2,
     "metadata": {},
     "output_type": "execute_result"
    }
   ],
   "source": [
    "dir(math)"
   ]
  },
  {
   "cell_type": "code",
   "execution_count": 5,
   "id": "4c11961f-ecae-4b45-bedd-d8ac98d9db9a",
   "metadata": {},
   "outputs": [
    {
     "name": "stdout",
     "output_type": "stream",
     "text": [
      "1020191707388135453451234870990895431295296013911923331389255804198255110589056224885050971408258577833130492962339087896214213025863343847422809759689915199470751589767573182013360040719254173922847519884523011689295750881072987547664550681921496101296365846478298751453510753269255070902741458798163733762262251227685707645606478833188201660554834092388333950588488231133707420115765746887777528611689567167232647229501179173791849700963754690523849434274283126508788600484117443856454940778122664181980317589402026874109374624612936056832000000000000000000000000000000000000000000000000000000000000000000000000\n"
     ]
    }
   ],
   "source": [
    "print(math.factorial(299))"
   ]
  },
  {
   "cell_type": "code",
   "execution_count": 6,
   "id": "8730a1d8-edbe-4aa6-8783-4ea5e4508e0b",
   "metadata": {},
   "outputs": [
    {
     "name": "stdout",
     "output_type": "stream",
     "text": [
      "[1, 1, 2, 3, 5, 8, 13, 21, 34, 55, 89, 144, 233, 377, 610, 987, 1597, 2584, 4181, 6765, 10946, 17711, 28657, 46368, 75025, 121393, 196418, 317811, 514229, 832040, 1346269, 2178309, 3524578, 5702887, 9227465, 14930352, 24157817, 39088169, 63245986, 102334155, 165580141, 267914296, 433494437, 701408733, 1134903170, 1836311903, 2971215073, 4807526976, 7778742049, 12586269025, 20365011074, 32951280099, 53316291173, 86267571272, 139583862445, 225851433717, 365435296162, 591286729879, 956722026041, 1548008755920, 2504730781961, 4052739537881, 6557470319842, 10610209857723, 17167680177565, 27777890035288, 44945570212853, 72723460248141, 117669030460994, 190392490709135, 308061521170129, 498454011879264, 806515533049393, 1304969544928657, 2111485077978050, 3416454622906707, 5527939700884757, 8944394323791464, 14472334024676221, 23416728348467685, 37889062373143906, 61305790721611591, 99194853094755497, 160500643816367088, 259695496911122585, 420196140727489673, 679891637638612258, 1100087778366101931, 1779979416004714189, 2880067194370816120]\n"
     ]
    }
   ],
   "source": [
    "# definition de la fonction fibonacci\n",
    "def fibonacci(n):\n",
    "    liste=[]\n",
    "    a,b=0,1\n",
    "    for i in range(0,n):\n",
    "        liste.append(b)\n",
    "        a,b=b,a+b\n",
    "    return liste\n",
    "\n",
    "liste=fibonacci(90)\n",
    "print(liste)"
   ]
  },
  {
   "cell_type": "code",
   "execution_count": 7,
   "id": "6780f647-bcbf-4353-9de8-b608244cbf1c",
   "metadata": {},
   "outputs": [
    {
     "name": "stdout",
     "output_type": "stream",
     "text": [
      "12586269025\n"
     ]
    }
   ],
   "source": [
    "random.seed(0)\n",
    "print(random.choice(liste))"
   ]
  },
  {
   "cell_type": "code",
   "execution_count": 8,
   "id": "511f169c-0b63-4768-92e4-86ed9e4b1b7e",
   "metadata": {},
   "outputs": [
    {
     "name": "stdout",
     "output_type": "stream",
     "text": [
      "0.7579544029403025\n"
     ]
    }
   ],
   "source": [
    "# générer aléatoirement un nombre de type float\n",
    "print(random.random())"
   ]
  },
  {
   "cell_type": "code",
   "execution_count": 9,
   "id": "21b067a1-ff8a-42d5-8a0b-26902227e070",
   "metadata": {},
   "outputs": [
    {
     "data": {
      "text/plain": [
       "array([[13,  5,  7,  4, 15, 11,  2],\n",
       "       [ 3, 15,  1, 14, 15, 17, 18],\n",
       "       [ 2, 10,  6, 18,  9,  2, 11],\n",
       "       [ 7,  4, 13,  0,  4,  5, 12],\n",
       "       [ 7,  9,  1,  8, 10, 12,  1]])"
      ]
     },
     "execution_count": 9,
     "metadata": {},
     "output_type": "execute_result"
    }
   ],
   "source": [
    "# création d'une matrice avec des nombres entiers aléatoires\n",
    "A=np.random.randint(0,20,[5,7])\n",
    "A"
   ]
  },
  {
   "cell_type": "code",
   "execution_count": 10,
   "id": "f3601951-f959-476a-8939-6d59970b359f",
   "metadata": {},
   "outputs": [
    {
     "name": "stdout",
     "output_type": "stream",
     "text": [
      "[86267571272, 8, 5702887, 27777890035288, 6557470319842, 32951280099, 63245986, 4052739537881, 1836311903, 2111485077978050, 317811, 17167680177565, 2584, 24157817, 233, 23416728348467685, 3524578, 117669030460994]\n"
     ]
    }
   ],
   "source": [
    "# utilisons la fonction sample du module random qui permet de retourner une fourchette de nombre à partir d'une liste\n",
    "print(random.sample(liste,18))"
   ]
  },
  {
   "cell_type": "code",
   "execution_count": 11,
   "id": "de2c3469-5eb3-4f67-a44b-93a6243650b7",
   "metadata": {},
   "outputs": [
    {
     "name": "stdout",
     "output_type": "stream",
     "text": [
      "None\n"
     ]
    }
   ],
   "source": [
    "liste=[2,4,56,23]\n",
    "print(random.shuffle(liste))\n"
   ]
  },
  {
   "cell_type": "code",
   "execution_count": null,
   "id": "9e170172-5519-47d7-9832-4de66c704670",
   "metadata": {},
   "outputs": [],
   "source": []
  },
  {
   "cell_type": "raw",
   "id": "09aed890-ee0c-4519-929f-17b7bbf88e41",
   "metadata": {},
   "source": [
    "print(os.getcwd)"
   ]
  },
  {
   "cell_type": "raw",
   "id": "95861371-2f35-4ab4-a979-f3d8fea582d4",
   "metadata": {},
   "source": [
    "W=np.random.randint(0,100,[5,5])\n",
    "print(random.shuffle(W))"
   ]
  },
  {
   "cell_type": "code",
   "execution_count": null,
   "id": "2f42da5d-a8f7-4101-a9fa-556b058f8887",
   "metadata": {},
   "outputs": [],
   "source": []
  }
 ],
 "metadata": {
  "kernelspec": {
   "display_name": "Python 3 (ipykernel)",
   "language": "python",
   "name": "python3"
  },
  "language_info": {
   "codemirror_mode": {
    "name": "ipython",
    "version": 3
   },
   "file_extension": ".py",
   "mimetype": "text/x-python",
   "name": "python",
   "nbconvert_exporter": "python",
   "pygments_lexer": "ipython3",
   "version": "3.12.7"
  }
 },
 "nbformat": 4,
 "nbformat_minor": 5
}
