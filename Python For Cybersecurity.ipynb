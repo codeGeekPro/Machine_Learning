{
 "cells": [
  {
   "cell_type": "code",
   "execution_count": 3,
   "id": "4be532c1-25de-4925-8583-a4d3aa5904d4",
   "metadata": {},
   "outputs": [
    {
     "data": {
      "text/plain": [
       "[0, 1, 4, 9, 16, 25, 36, 49, 64, 81]"
      ]
     },
     "execution_count": 3,
     "metadata": {},
     "output_type": "execute_result"
    }
   ],
   "source": [
    "# List compréhension\n",
    "squares=[x**2 for x in range(10)]\n",
    "squares"
   ]
  },
  {
   "cell_type": "code",
   "execution_count": 4,
   "id": "2968503c-8e7e-4f59-9e2c-658c28617ef3",
   "metadata": {},
   "outputs": [],
   "source": [
    "# My first script for hacking\n",
    "import hashlib"
   ]
  },
  {
   "cell_type": "code",
   "execution_count": 5,
   "id": "dc61d044-6ddc-45a2-a93f-1209f1b58ee3",
   "metadata": {},
   "outputs": [],
   "source": [
    "def try_passwords(hash_to_crack,dictionnary_path):\n",
    "    with open (\"dictionnary_path\",\"r\") as file:\n",
    "        for password in file.readlines:\n",
    "            hashed_pw=hashlib.sha256(password.strip().encode()).hexdigest()\n",
    "            if hashed_pw== hash_to_crack:\n",
    "                return password.strip()\n",
    "    return \"password not found\"#!/usr/bin/python3\n",
    "\n"
   ]
  },
  {
   "cell_type": "code",
   "execution_count": 13,
   "id": "02e0c316-de15-4a50-bd0e-814def82e342",
   "metadata": {},
   "outputs": [
    {
     "data": {
      "text/plain": [
       "['mabry9799@windstream.net:mamalu',\n",
       " 'waynecbowers@mail.com:Mogandosanchez1',\n",
       " 'bmathews@cebridge.net',\n",
       " 'stella.shiroma@hawaiiantel.net:dogtrainer7',\n",
       " 'tkmelmo6@windstream.net:ljmrpm',\n",
       " 'rocket.roz1@hawaiiantel.net:turtle6',\n",
       " 'jackksr@cebridge.net:jlk_319_s',\n",
       " 'itsallaboutyou@windstream.net:Thumper57',\n",
       " 'cvanhorn@suddenlink.net:Baron190']"
      ]
     },
     "execution_count": 13,
     "metadata": {},
     "output_type": "execute_result"
    }
   ],
   "source": [
    "import re\n",
    "\n",
    "text=\"Join Telegram Channel For More Cracking Stuffs https://t.me/UnitedCracker Channel Under Older and Trusted Network https://t.me/TheStarkArmyX ————————— ≪ °✾° ≫ ————————— Premium Channel Entry Open at Cheap Cost https://t.me/Mr_NeophyteStore/106⊱ ──────────── {⋆⌘⋆} ──────────── ⊰ mabry9799@windstream.net:mamalu waynecbowers@mail.com:Mogandosanchez1 bmathews@cebridge.net :oruvail stella.shiroma@hawaiiantel.net:dogtrainer7 tkmelmo6@windstream.net:ljmrpm rocket.roz1@hawaiiantel.net:turtle6 jackksr@cebridge.net:jlk_319_s itsallaboutyou@windstream.net:Thumper57 cvanhorn@suddenlink.net:Baron190 \"\n",
    "\n",
    "\n",
    "url=re.compile(\"https://\\S+\")\n",
    "url.findall(text)\n",
    "\n",
    "null=re.compile(\"\\S+@\\S+\")\n",
    "null.findall(text)"
   ]
  },
  {
   "cell_type": "code",
   "execution_count": 17,
   "id": "6f196ad9-e763-47d5-b767-442c28328d1d",
   "metadata": {},
   "outputs": [
    {
     "name": "stdout",
     "output_type": "stream",
     "text": [
      "TYPE=  <class 'str'>\n",
      "Vous travaillez sur :  win32\n",
      " La version est : 3.11.5 | packaged by Anaconda, Inc. | (main, Sep 11 2023, 13:26:23) [MSC v.1916 64 bit (AMD64)]\n",
      "Le chemin d' acces est :  ['C:\\\\Users\\\\Administrateur', 'C:\\\\ProgramData\\\\anaconda3\\\\python311.zip', 'C:\\\\ProgramData\\\\anaconda3\\\\DLLs', 'C:\\\\ProgramData\\\\anaconda3\\\\Lib', 'C:\\\\ProgramData\\\\anaconda3', '', 'C:\\\\ProgramData\\\\anaconda3\\\\Lib\\\\site-packages', 'C:\\\\ProgramData\\\\anaconda3\\\\Lib\\\\site-packages\\\\win32', 'C:\\\\ProgramData\\\\anaconda3\\\\Lib\\\\site-packages\\\\win32\\\\lib', 'C:\\\\ProgramData\\\\anaconda3\\\\Lib\\\\site-packages\\\\Pythonwin'] \n",
      "\n",
      "les arguments: ['C:\\\\ProgramData\\\\anaconda3\\\\Lib\\\\site-packages\\\\ipykernel_launcher.py', '-f', 'C:\\\\Users\\\\Administrateur\\\\AppData\\\\Roaming\\\\jupyter\\\\runtime\\\\kernel-319f23b3-2dcf-4d6d-8228-087bca6c44b8.json'] \n",
      "\n",
      "fonction.py doesn't exist on your disk\n",
      "\n",
      " C:\\Users\\Administrateur est votre dossier de travail\n",
      "\n",
      " ['.anaconda', '.astropy', '.bash_history', '.conda', '.condarc', '.continuum', '.gitconfig', '.ipynb_checkpoints', '.ipython', '.jupyter', '.lesshst', '.matplotlib', '.platformio', '.spyder-py3', '.vscode', '3D Objects', 'AppData', 'Application Data', 'Apprentissage.ipynb', 'Business_of_Hacking.pdf', 'ChatGPT_Prompts_Book_Precision_Prompts__Role_Prompting__Trainin.pdf', 'Contacts', 'Cookies', 'Cours de réhabilitation.ipynb', 'Cours_regression_linéaire.ipynb', 'Documents', 'Downloads', \"Essai d'application.ipynb\", 'Exercices_Python.ipynb', 'Favorites', 'figuer_sauvegardée.png', 'Graphique.png', 'IntelGraphicsProfiles', 'Jedi', 'kali-linux-penetration-testing.pdf', 'Links', 'Listes_dictionnaires.ipynb', 'Local Settings', 'Menu Démarrer', 'Mes documents', 'Modules et packages.ipynb', 'Modèles', 'mon_image.png', 'Music', 'Ndarray numpy.ipynb', 'NTUSER.DAT', 'ntuser.dat.LOG1', 'ntuser.dat.LOG2', 'NTUSER.DAT{53b39e87-18c4-11ea-a811-000d3aa4692b}.TxR.0.regtrans-ms', 'NTUSER.DAT{53b39e87-18c4-11ea-a811-000d3aa4692b}.TxR.1.regtrans-ms', 'NTUSER.DAT{53b39e87-18c4-11ea-a811-000d3aa4692b}.TxR.2.regtrans-ms', 'NTUSER.DAT{53b39e87-18c4-11ea-a811-000d3aa4692b}.TxR.blf', 'NTUSER.DAT{53b39e88-18c4-11ea-a811-000d3aa4692b}.TM.blf', 'NTUSER.DAT{53b39e88-18c4-11ea-a811-000d3aa4692b}.TMContainer00000000000000000001.regtrans-ms', 'NTUSER.DAT{53b39e88-18c4-11ea-a811-000d3aa4692b}.TMContainer00000000000000000002.regtrans-ms', 'ntuser.ini', 'OneDrive', 'Programmation Orientée Objet.ipynb', 'PycharmProjects', 'Python For Cybersecurity.ipynb', 'Recent', 'recueil.txt', 'Saved Games', 'Searches', 'SendTo', 'Traduction_PDF.ipynb', 'Untitled.ipynb', 'Videos', \"Voisinage d'impression\", 'Voisinage réseau', 'Working Method To Cashout Dumps USA.pdf']\n",
      "\n",
      "CMD\n"
     ]
    },
    {
     "data": {
      "text/plain": [
       "<function TextIOWrapper.close()>"
      ]
     },
     "execution_count": 17,
     "metadata": {},
     "output_type": "execute_result"
    }
   ],
   "source": [
    "#!/usr/bin/python3\n",
    "\n",
    "import sys\n",
    "\n",
    "# on va voir la plateforme sur laquelle on travaille avec le module platform\n",
    "p=sys.platform\n",
    "print('TYPE= ',type(p))\n",
    "print('Vous travaillez sur : ',p)\n",
    "\n",
    "# maintenant voyons la version\n",
    "v=sys.version\n",
    "print(' La version est :',v) # Ceci affiche la version de python qui est installe\n",
    "\n",
    "# Affichage du chemin d' acces avec le module path\n",
    "pa=sys.path\n",
    "print(\"Le chemin d' acces est : \",pa,'\\n')\n",
    "\n",
    "# sys permet d' obtenir les arguments de notre script\n",
    "arg=sys.argv\n",
    "print('les arguments:',arg,'\\n')\n",
    "\n",
    "\n",
    "\n",
    "import os  \n",
    "\n",
    "# utilisons 'isfile()' pour verifier si un fichier existe ou pas\n",
    "\n",
    "f='fonction.py' # exemple de nom de fichier\n",
    "resultat=os.path.isfile(f) # par defaut il le cherche dans le dossier actuel mais si on veut on peut lui donner le donner un chemin d' acces specifique par exemple /etc/passwd. Le resultat est true ou false.\n",
    "\n",
    "if resultat :\n",
    "\tprint(f,'existe sur ton disque dur')\n",
    "else:\n",
    "\tprint(f,\"doesn't exist on your disk\")\n",
    "\t\n",
    "\t\n",
    "print('\\n',os.getcwd(),'est votre dossier de travail') # pour afficher le dossier de travail\n",
    "\n",
    "print('\\n',os.listdir())  # pour afficher les fichiers et sous dossier du dossier actuel\n",
    "\n",
    "\n",
    "print(\"\\nCMD\")  # pour me rappeler que j' execute des commandes\n",
    "\n",
    "os.system(\"ls -l\")\n",
    "\n",
    "\n",
    "\n",
    "\t\n",
    "file=open(\"recueil.txt\",\"a\")\n",
    "for actual, dirs ,files in os.walk('/home/docteur'):\n",
    "\t\tfile.writelines(actual)\n",
    "\t\tfile.writelines(dirs)\n",
    "\t\tfile.writelines(files)\n",
    "file.close\n",
    "\n"
   ]
  },
  {
   "cell_type": "code",
   "execution_count": 22,
   "id": "1834ffd6-501b-4e68-8250-93ca4d6a1863",
   "metadata": {},
   "outputs": [
    {
     "ename": "ImportError",
     "evalue": "cannot import name 'Zipfile' from 'zipfile' (C:\\ProgramData\\anaconda3\\Lib\\zipfile.py)",
     "output_type": "error",
     "traceback": [
      "\u001b[1;31m---------------------------------------------------------------------------\u001b[0m",
      "\u001b[1;31mImportError\u001b[0m                               Traceback (most recent call last)",
      "Cell \u001b[1;32mIn[22], line 1\u001b[0m\n\u001b[1;32m----> 1\u001b[0m \u001b[38;5;28;01mfrom\u001b[39;00m \u001b[38;5;21;01mzipfile\u001b[39;00m \u001b[38;5;28;01mimport\u001b[39;00m Zipfile\n",
      "\u001b[1;31mImportError\u001b[0m: cannot import name 'Zipfile' from 'zipfile' (C:\\ProgramData\\anaconda3\\Lib\\zipfile.py)"
     ]
    }
   ],
   "source": [
    "from zipfile import Zipfile"
   ]
  },
  {
   "cell_type": "code",
   "execution_count": null,
   "id": "25b2eb39-c36a-48e9-97b3-9e2d9b9fdf22",
   "metadata": {},
   "outputs": [],
   "source": []
  }
 ],
 "metadata": {
  "kernelspec": {
   "display_name": "Python 3 (ipykernel)",
   "language": "python",
   "name": "python3"
  },
  "language_info": {
   "codemirror_mode": {
    "name": "ipython",
    "version": 3
   },
   "file_extension": ".py",
   "mimetype": "text/x-python",
   "name": "python",
   "nbconvert_exporter": "python",
   "pygments_lexer": "ipython3",
   "version": "3.11.5"
  }
 },
 "nbformat": 4,
 "nbformat_minor": 5
}
